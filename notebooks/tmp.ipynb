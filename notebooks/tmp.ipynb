{
 "cells": [
  {
   "cell_type": "code",
   "execution_count": 1,
   "metadata": {},
   "outputs": [],
   "source": [
    "#%pip install pandas"
   ]
  },
  {
   "cell_type": "code",
   "execution_count": 2,
   "metadata": {},
   "outputs": [],
   "source": [
    "import json\n",
    "\n",
    "with open('./qcm_with_answers.json', 'r', encoding='utf-8') as f:\n",
    "    qcm = json.load(f)"
   ]
  },
  {
   "cell_type": "code",
   "execution_count": null,
   "metadata": {},
   "outputs": [],
   "source": []
  },
  {
   "cell_type": "code",
   "execution_count": 3,
   "metadata": {},
   "outputs": [],
   "source": [
    "import pandas as pd\n",
    "df = pd.DataFrame(qcm)"
   ]
  },
  {
   "cell_type": "code",
   "execution_count": 4,
   "metadata": {},
   "outputs": [
    {
     "data": {
      "text/html": [
       "<div>\n",
       "<style scoped>\n",
       "    .dataframe tbody tr th:only-of-type {\n",
       "        vertical-align: middle;\n",
       "    }\n",
       "\n",
       "    .dataframe tbody tr th {\n",
       "        vertical-align: top;\n",
       "    }\n",
       "\n",
       "    .dataframe thead th {\n",
       "        text-align: right;\n",
       "    }\n",
       "</style>\n",
       "<table border=\"1\" class=\"dataframe\">\n",
       "  <thead>\n",
       "    <tr style=\"text-align: right;\">\n",
       "      <th></th>\n",
       "      <th>id</th>\n",
       "      <th>question</th>\n",
       "      <th>answer_A</th>\n",
       "      <th>answer_B</th>\n",
       "      <th>answer_C</th>\n",
       "      <th>answer_D</th>\n",
       "      <th>correct_answer</th>\n",
       "    </tr>\n",
       "  </thead>\n",
       "  <tbody>\n",
       "    <tr>\n",
       "      <th>0</th>\n",
       "      <td>1</td>\n",
       "      <td>Qu'est-ce qui n'est pas inclus dans l'ingénier...</td>\n",
       "      <td>L'analyse des données pour extraire des inform...</td>\n",
       "      <td>La gestion des bases de données relationnelles</td>\n",
       "      <td>Le développement de logiciels pour des applica...</td>\n",
       "      <td>La construction et la maintenance de pipelines...</td>\n",
       "      <td>C</td>\n",
       "    </tr>\n",
       "    <tr>\n",
       "      <th>1</th>\n",
       "      <td>2</td>\n",
       "      <td>Parmi ces outils, lequel est le plus adapté po...</td>\n",
       "      <td>Apache Spark</td>\n",
       "      <td>SQL</td>\n",
       "      <td>Hadoop</td>\n",
       "      <td>Python</td>\n",
       "      <td>A</td>\n",
       "    </tr>\n",
       "    <tr>\n",
       "      <th>2</th>\n",
       "      <td>3</td>\n",
       "      <td>Quelle est l'une des principales différences e...</td>\n",
       "      <td>SQL est basé sur des colonnes, NoSQL est basé ...</td>\n",
       "      <td>SQL utilise des tablettes, NoSQL utilise des c...</td>\n",
       "      <td>SQL est pour les données structurées, NoSQL po...</td>\n",
       "      <td>SQL est multiparallel, NoSQL est unithread</td>\n",
       "      <td>C</td>\n",
       "    </tr>\n",
       "    <tr>\n",
       "      <th>3</th>\n",
       "      <td>4</td>\n",
       "      <td>Qu'entend-on par le terme 'Data Lake'?</td>\n",
       "      <td>Un grand dépôt avec structure de données définie</td>\n",
       "      <td>Un flux de données en temps réel</td>\n",
       "      <td>Un stockage centralisé pour tous types de données</td>\n",
       "      <td>Une méthode de compression des données</td>\n",
       "      <td>C</td>\n",
       "    </tr>\n",
       "    <tr>\n",
       "      <th>4</th>\n",
       "      <td>5</td>\n",
       "      <td>Pourquoi la normalisation des formats de date ...</td>\n",
       "      <td>Pour éviter les doublons de colonnes</td>\n",
       "      <td>Pour garantir la cohérence et éviter les erreu...</td>\n",
       "      <td>Pour réduire l'espace de stockage</td>\n",
       "      <td>Aucune des réponses</td>\n",
       "      <td>B</td>\n",
       "    </tr>\n",
       "  </tbody>\n",
       "</table>\n",
       "</div>"
      ],
      "text/plain": [
       "   id                                           question  \\\n",
       "0   1  Qu'est-ce qui n'est pas inclus dans l'ingénier...   \n",
       "1   2  Parmi ces outils, lequel est le plus adapté po...   \n",
       "2   3  Quelle est l'une des principales différences e...   \n",
       "3   4             Qu'entend-on par le terme 'Data Lake'?   \n",
       "4   5  Pourquoi la normalisation des formats de date ...   \n",
       "\n",
       "                                            answer_A  \\\n",
       "0  L'analyse des données pour extraire des inform...   \n",
       "1                                       Apache Spark   \n",
       "2  SQL est basé sur des colonnes, NoSQL est basé ...   \n",
       "3   Un grand dépôt avec structure de données définie   \n",
       "4               Pour éviter les doublons de colonnes   \n",
       "\n",
       "                                            answer_B  \\\n",
       "0     La gestion des bases de données relationnelles   \n",
       "1                                                SQL   \n",
       "2  SQL utilise des tablettes, NoSQL utilise des c...   \n",
       "3                   Un flux de données en temps réel   \n",
       "4  Pour garantir la cohérence et éviter les erreu...   \n",
       "\n",
       "                                            answer_C  \\\n",
       "0  Le développement de logiciels pour des applica...   \n",
       "1                                             Hadoop   \n",
       "2  SQL est pour les données structurées, NoSQL po...   \n",
       "3  Un stockage centralisé pour tous types de données   \n",
       "4                  Pour réduire l'espace de stockage   \n",
       "\n",
       "                                            answer_D correct_answer  \n",
       "0  La construction et la maintenance de pipelines...              C  \n",
       "1                                             Python              A  \n",
       "2         SQL est multiparallel, NoSQL est unithread              C  \n",
       "3             Une méthode de compression des données              C  \n",
       "4                                Aucune des réponses              B  "
      ]
     },
     "execution_count": 4,
     "metadata": {},
     "output_type": "execute_result"
    }
   ],
   "source": [
    "df.head(5)"
   ]
  },
  {
   "cell_type": "code",
   "execution_count": null,
   "metadata": {},
   "outputs": [],
   "source": []
  },
  {
   "cell_type": "code",
   "execution_count": 5,
   "metadata": {},
   "outputs": [],
   "source": [
    "def unscramble_data(scrambled_str):\n",
    "    key = 'QUIZ_KEY_2024'\n",
    "    return ''.join(\n",
    "        chr(ord(char) ^ ord(key[i % len(key)])) for i, char in enumerate(scrambled_str)\n",
    "    )\n"
   ]
  },
  {
   "cell_type": "markdown",
   "metadata": {},
   "source": [
    "# Scrambled is supposed to be downloaded by the students and sent to the teacher"
   ]
  },
  {
   "cell_type": "code",
   "execution_count": 7,
   "metadata": {},
   "outputs": [],
   "source": [
    "scrambled = \"./quiz_progress_2025-01-15T22_35_43.441Z.json\""
   ]
  },
  {
   "cell_type": "code",
   "execution_count": 8,
   "metadata": {},
   "outputs": [],
   "source": [
    "with open(scrambled, 'r', encoding='utf-8') as f:\n",
    "    scrambled_data = f.read()\n",
    "\n",
    "unscrambled_data = unscramble_data(scrambled_data)\n",
    "unscrambled_data_json = json.loads(unscrambled_data)"
   ]
  },
  {
   "cell_type": "code",
   "execution_count": 9,
   "metadata": {},
   "outputs": [
    {
     "data": {
      "text/plain": [
       "'issam|ELALAOUI'"
      ]
     },
     "execution_count": 9,
     "metadata": {},
     "output_type": "execute_result"
    }
   ],
   "source": [
    "unscrambled_data_json['user_identification']"
   ]
  },
  {
   "cell_type": "code",
   "execution_count": 10,
   "metadata": {},
   "outputs": [],
   "source": [
    "import json\n",
    "\n",
    "dictmap = {\n",
    "    '0': 'A',\n",
    "    '1': 'B',\n",
    "    '2': 'C',\n",
    "    '3': 'D'\n",
    "}\n",
    "\n",
    "def score_user(user_data, df):\n",
    "    correct_answers = df.set_index('id')['correct_answer'].to_dict()\n",
    "    score = 0\n",
    "    total_questions = len(user_data['answers'])\n",
    "    \n",
    "    for answer in user_data['answers']:\n",
    "        question_id = answer['question_id']\n",
    "        user_answer = answer['answer_id']\n",
    "        correct_answer = correct_answers.get(question_id)\n",
    "\n",
    "        \n",
    "        if correct_answer and dictmap[user_answer] == correct_answer:\n",
    "            score += 1\n",
    "    \n",
    "    return {\n",
    "        \"user_identification\": user_data['user_identification'],\n",
    "        \"score\": score,\n",
    "        \"total_questions\": total_questions\n",
    "    }"
   ]
  },
  {
   "cell_type": "code",
   "execution_count": 11,
   "metadata": {},
   "outputs": [
    {
     "name": "stdout",
     "output_type": "stream",
     "text": [
      "{'user_identification': 'issam|ELALAOUI', 'score': 3, 'total_questions': 9}\n"
     ]
    }
   ],
   "source": [
    "result = score_user(unscrambled_data_json, df)\n",
    "print(result)"
   ]
  },
  {
   "cell_type": "code",
   "execution_count": null,
   "metadata": {},
   "outputs": [],
   "source": []
  },
  {
   "cell_type": "code",
   "execution_count": null,
   "metadata": {},
   "outputs": [],
   "source": []
  }
 ],
 "metadata": {
  "kernelspec": {
   "display_name": "Python 3",
   "language": "python",
   "name": "python3"
  },
  "language_info": {
   "codemirror_mode": {
    "name": "ipython",
    "version": 3
   },
   "file_extension": ".py",
   "mimetype": "text/x-python",
   "name": "python",
   "nbconvert_exporter": "python",
   "pygments_lexer": "ipython3",
   "version": "3.11.9"
  }
 },
 "nbformat": 4,
 "nbformat_minor": 2
}
